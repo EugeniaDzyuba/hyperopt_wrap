{
 "cells": [
  {
   "cell_type": "code",
   "execution_count": 1,
   "id": "d175c263",
   "metadata": {},
   "outputs": [],
   "source": [
    "import sys\n",
    "sys.path.insert(0, '../')\n",
    "\n",
    "import os \n",
    "from os.path import join as pjoin\n",
    "\n",
    "import numpy as np\n",
    "import pandas as pd\n",
    "\n",
    "from sklearn import metrics\n",
    "from sklearn.linear_model import LogisticRegression\n",
    "from sklearn.model_selection import train_test_split\n",
    "\n",
    "from catboost import CatBoostClassifier, Pool\n",
    "from optuna.samplers import TPESampler, RandomSampler\n",
    "\n",
    "from src.hyperopt_wrap import ModelHyperOpt\n",
    "from src.common_utils import prc_auc\n",
    "from src.common_utils import preprocess_and_train, preprocess"
   ]
  },
  {
   "cell_type": "code",
   "execution_count": 2,
   "id": "243d956a",
   "metadata": {},
   "outputs": [],
   "source": [
    "%load_ext autoreload\n",
    "%autoreload 2"
   ]
  },
  {
   "cell_type": "code",
   "execution_count": 3,
   "id": "1b884b42",
   "metadata": {},
   "outputs": [],
   "source": [
    "DATA_PATH = pjoin(os.getcwd(), 'data')"
   ]
  },
  {
   "cell_type": "markdown",
   "id": "4a88c1c7",
   "metadata": {},
   "source": [
    "### Load data"
   ]
  },
  {
   "cell_type": "code",
   "execution_count": 4,
   "id": "03d6c791",
   "metadata": {},
   "outputs": [],
   "source": [
    "super_train = pd.read_csv(pjoin(DATA_PATH, 'train.csv'))\n",
    "super_test = pd.read_csv(pjoin(DATA_PATH, 'test.csv'))"
   ]
  },
  {
   "cell_type": "code",
   "execution_count": 5,
   "id": "fd39e96b",
   "metadata": {},
   "outputs": [
    {
     "data": {
      "text/html": [
       "<div>\n",
       "<style scoped>\n",
       "    .dataframe tbody tr th:only-of-type {\n",
       "        vertical-align: middle;\n",
       "    }\n",
       "\n",
       "    .dataframe tbody tr th {\n",
       "        vertical-align: top;\n",
       "    }\n",
       "\n",
       "    .dataframe thead th {\n",
       "        text-align: right;\n",
       "    }\n",
       "</style>\n",
       "<table border=\"1\" class=\"dataframe\">\n",
       "  <thead>\n",
       "    <tr style=\"text-align: right;\">\n",
       "      <th></th>\n",
       "      <th>PassengerId</th>\n",
       "      <th>Survived</th>\n",
       "      <th>Pclass</th>\n",
       "      <th>Name</th>\n",
       "      <th>Sex</th>\n",
       "      <th>Age</th>\n",
       "      <th>SibSp</th>\n",
       "      <th>Parch</th>\n",
       "      <th>Ticket</th>\n",
       "      <th>Fare</th>\n",
       "      <th>Cabin</th>\n",
       "      <th>Embarked</th>\n",
       "    </tr>\n",
       "  </thead>\n",
       "  <tbody>\n",
       "    <tr>\n",
       "      <th>0</th>\n",
       "      <td>1</td>\n",
       "      <td>0</td>\n",
       "      <td>3</td>\n",
       "      <td>Braund, Mr. Owen Harris</td>\n",
       "      <td>male</td>\n",
       "      <td>22.0</td>\n",
       "      <td>1</td>\n",
       "      <td>0</td>\n",
       "      <td>A/5 21171</td>\n",
       "      <td>7.2500</td>\n",
       "      <td>NaN</td>\n",
       "      <td>S</td>\n",
       "    </tr>\n",
       "    <tr>\n",
       "      <th>1</th>\n",
       "      <td>2</td>\n",
       "      <td>1</td>\n",
       "      <td>1</td>\n",
       "      <td>Cumings, Mrs. John Bradley (Florence Briggs Th...</td>\n",
       "      <td>female</td>\n",
       "      <td>38.0</td>\n",
       "      <td>1</td>\n",
       "      <td>0</td>\n",
       "      <td>PC 17599</td>\n",
       "      <td>71.2833</td>\n",
       "      <td>C85</td>\n",
       "      <td>C</td>\n",
       "    </tr>\n",
       "    <tr>\n",
       "      <th>2</th>\n",
       "      <td>3</td>\n",
       "      <td>1</td>\n",
       "      <td>3</td>\n",
       "      <td>Heikkinen, Miss. Laina</td>\n",
       "      <td>female</td>\n",
       "      <td>26.0</td>\n",
       "      <td>0</td>\n",
       "      <td>0</td>\n",
       "      <td>STON/O2. 3101282</td>\n",
       "      <td>7.9250</td>\n",
       "      <td>NaN</td>\n",
       "      <td>S</td>\n",
       "    </tr>\n",
       "    <tr>\n",
       "      <th>3</th>\n",
       "      <td>4</td>\n",
       "      <td>1</td>\n",
       "      <td>1</td>\n",
       "      <td>Futrelle, Mrs. Jacques Heath (Lily May Peel)</td>\n",
       "      <td>female</td>\n",
       "      <td>35.0</td>\n",
       "      <td>1</td>\n",
       "      <td>0</td>\n",
       "      <td>113803</td>\n",
       "      <td>53.1000</td>\n",
       "      <td>C123</td>\n",
       "      <td>S</td>\n",
       "    </tr>\n",
       "    <tr>\n",
       "      <th>4</th>\n",
       "      <td>5</td>\n",
       "      <td>0</td>\n",
       "      <td>3</td>\n",
       "      <td>Allen, Mr. William Henry</td>\n",
       "      <td>male</td>\n",
       "      <td>35.0</td>\n",
       "      <td>0</td>\n",
       "      <td>0</td>\n",
       "      <td>373450</td>\n",
       "      <td>8.0500</td>\n",
       "      <td>NaN</td>\n",
       "      <td>S</td>\n",
       "    </tr>\n",
       "  </tbody>\n",
       "</table>\n",
       "</div>"
      ],
      "text/plain": [
       "   PassengerId  Survived  Pclass  \\\n",
       "0            1         0       3   \n",
       "1            2         1       1   \n",
       "2            3         1       3   \n",
       "3            4         1       1   \n",
       "4            5         0       3   \n",
       "\n",
       "                                                Name     Sex   Age  SibSp  \\\n",
       "0                            Braund, Mr. Owen Harris    male  22.0      1   \n",
       "1  Cumings, Mrs. John Bradley (Florence Briggs Th...  female  38.0      1   \n",
       "2                             Heikkinen, Miss. Laina  female  26.0      0   \n",
       "3       Futrelle, Mrs. Jacques Heath (Lily May Peel)  female  35.0      1   \n",
       "4                           Allen, Mr. William Henry    male  35.0      0   \n",
       "\n",
       "   Parch            Ticket     Fare Cabin Embarked  \n",
       "0      0         A/5 21171   7.2500   NaN        S  \n",
       "1      0          PC 17599  71.2833   C85        C  \n",
       "2      0  STON/O2. 3101282   7.9250   NaN        S  \n",
       "3      0            113803  53.1000  C123        S  \n",
       "4      0            373450   8.0500   NaN        S  "
      ]
     },
     "execution_count": 5,
     "metadata": {},
     "output_type": "execute_result"
    }
   ],
   "source": [
    "super_train.head()"
   ]
  },
  {
   "cell_type": "code",
   "execution_count": 6,
   "id": "326fa51e",
   "metadata": {},
   "outputs": [],
   "source": [
    "features_names = ['Pclass', 'Sex', 'Age', 'SibSp', 'Parch', 'Fare', 'Cabin', 'Embarked']\n",
    "\n",
    "cat_features = ['Sex', 'Cabin', 'Embarked']\n",
    "\n",
    "num_features = list(set(features_names) - set(cat_features))"
   ]
  },
  {
   "cell_type": "code",
   "execution_count": 7,
   "id": "e4d68dfe",
   "metadata": {},
   "outputs": [],
   "source": [
    "X_train_1, X_test, _, y_test = train_test_split(super_train, super_train['Survived'], random_state=4, test_size=0.1)\n",
    "X_train, X_eval, y_train, y_eval = train_test_split(X_train_1, X_train_1['Survived'], random_state=5, test_size=0.1)"
   ]
  },
  {
   "cell_type": "code",
   "execution_count": 8,
   "id": "07f817f2",
   "metadata": {},
   "outputs": [
    {
     "data": {
      "text/plain": [
       "((720, 12), (90, 12), (81, 12))"
      ]
     },
     "execution_count": 8,
     "metadata": {},
     "output_type": "execute_result"
    }
   ],
   "source": [
    "X_train.shape, X_test.shape, X_eval.shape"
   ]
  },
  {
   "cell_type": "markdown",
   "id": "aeeb6e96",
   "metadata": {},
   "source": [
    "#### baseline"
   ]
  },
  {
   "cell_type": "code",
   "execution_count": 9,
   "id": "df37fbcb",
   "metadata": {},
   "outputs": [],
   "source": [
    "baseline_dict = X_train[['Survived', 'Sex']].groupby('Sex').mean().to_dict()['Survived']"
   ]
  },
  {
   "cell_type": "code",
   "execution_count": 10,
   "id": "d1a8b418",
   "metadata": {},
   "outputs": [],
   "source": [
    "X_test.loc[X_test['Sex'] == 'male', 'baseline_prediction'] = 0\n",
    "X_test.loc[X_test['Sex'] == 'female', 'baseline_prediction'] = 1"
   ]
  },
  {
   "cell_type": "code",
   "execution_count": 11,
   "id": "94cfbe0b",
   "metadata": {},
   "outputs": [],
   "source": [
    "X_test['baseline_prediction'] = X_test['Sex'].replace(baseline_dict)"
   ]
  },
  {
   "cell_type": "code",
   "execution_count": 12,
   "id": "26570673",
   "metadata": {},
   "outputs": [
    {
     "data": {
      "text/plain": [
       "0.762"
      ]
     },
     "execution_count": 12,
     "metadata": {},
     "output_type": "execute_result"
    }
   ],
   "source": [
    "prc_auc(\n",
    "    y_true = X_test['Survived'].values,\n",
    "    y_score = X_test['baseline_prediction'].values\n",
    ")"
   ]
  },
  {
   "cell_type": "markdown",
   "id": "f33f5e3f",
   "metadata": {},
   "source": [
    "#### boosting default params"
   ]
  },
  {
   "cell_type": "code",
   "execution_count": 13,
   "id": "9ded9d54",
   "metadata": {},
   "outputs": [],
   "source": [
    "X_train[cat_features] = X_train[cat_features].fillna('no_data')\n",
    "X_eval[cat_features] = X_eval[cat_features].fillna('no_data')\n",
    "X_test[cat_features] = X_test[cat_features].fillna('no_data')"
   ]
  },
  {
   "cell_type": "code",
   "execution_count": 14,
   "id": "41f81c87",
   "metadata": {},
   "outputs": [],
   "source": [
    "catboost_default = CatBoostClassifier(\n",
    "    random_seed = 30,\n",
    "    verbose = False,\n",
    "    cat_features = cat_features\n",
    ")"
   ]
  },
  {
   "cell_type": "code",
   "execution_count": 15,
   "id": "5fba7c3d",
   "metadata": {},
   "outputs": [
    {
     "data": {
      "text/plain": [
       "<catboost.core.CatBoostClassifier at 0x7f43a2b2f160>"
      ]
     },
     "execution_count": 15,
     "metadata": {},
     "output_type": "execute_result"
    }
   ],
   "source": [
    "catboost_default.fit(\n",
    "    X = X_train[features_names], \n",
    "    y = y_train,\n",
    "    eval_set = (X_eval[features_names], y_eval),\n",
    "    early_stopping_rounds = 10\n",
    ")"
   ]
  },
  {
   "cell_type": "code",
   "execution_count": 16,
   "id": "6052253c",
   "metadata": {},
   "outputs": [],
   "source": [
    "X_test['catboost_default'] = catboost_default.predict_proba(X = Pool(X_test[features_names], cat_features = cat_features))[:, 1]"
   ]
  },
  {
   "cell_type": "code",
   "execution_count": 17,
   "id": "17e6a224",
   "metadata": {},
   "outputs": [
    {
     "data": {
      "text/plain": [
       "0.864"
      ]
     },
     "execution_count": 17,
     "metadata": {},
     "output_type": "execute_result"
    }
   ],
   "source": [
    "prc_auc(\n",
    "    y_true = X_test['Survived'].values,\n",
    "    y_score = X_test['catboost_default'].values\n",
    ")"
   ]
  },
  {
   "cell_type": "markdown",
   "id": "08e86f74",
   "metadata": {},
   "source": [
    "### hyperopt for catboost"
   ]
  },
  {
   "cell_type": "code",
   "execution_count": 28,
   "id": "9fb5402e",
   "metadata": {},
   "outputs": [],
   "source": [
    "my_config_catboost = {\n",
    "    \"model\": CatBoostClassifier,\n",
    "    \n",
    "    \"hyperparameters\": lambda trial: {\n",
    "        'learning_rate': trial.suggest_float('learning_rate', 0.0001, 0.2),\n",
    "        'iterations': trial.suggest_discrete_uniform('iterations', 100, 500, 10),\n",
    "        'min_data_in_leaf' : trial.suggest_int('min_data_in_leaf', 1, 30),\n",
    "        'depth' : trial.suggest_int('depth', 2, 5)\n",
    "    },\n",
    "\n",
    "    \"fixed_hyperparameters\": {\n",
    "        \"random_seed\": 30,\n",
    "        \"verbose\" : False\n",
    "    },\n",
    "\n",
    "    \"metric\": prc_auc,\n",
    "    \"direction\": \"maximize\",\n",
    "    \"n_trials\": 20,\n",
    "    \"target_name\" : \"target_lal\",\n",
    "    \"cat_features\" : cat_features\n",
    "}"
   ]
  },
  {
   "cell_type": "code",
   "execution_count": 29,
   "id": "365192d4",
   "metadata": {
    "scrolled": true
   },
   "outputs": [
    {
     "name": "stderr",
     "output_type": "stream",
     "text": [
      "[I 2023-09-07 15:58:28,226] A new study created in memory with name: no-name-80ed20a0-682c-4e44-b6ad-44d90914e4db\n",
      "/tmp/ipykernel_2485/376549932.py:6: FutureWarning: suggest_discrete_uniform has been deprecated in v3.0.0. This feature will be removed in v6.0.0. See https://github.com/optuna/optuna/releases/tag/v3.0.0. Use suggest_float(..., step=...) instead.\n",
      "  'iterations': trial.suggest_discrete_uniform('iterations', 100, 500, 10),\n",
      "[I 2023-09-07 15:58:28,778] Trial 0 finished with value: 0.805 and parameters: {'learning_rate': 0.19239529409532957, 'iterations': 420.0, 'min_data_in_leaf': 16, 'depth': 2}. Best is trial 0 with value: 0.805.\n",
      "/tmp/ipykernel_2485/376549932.py:6: FutureWarning: suggest_discrete_uniform has been deprecated in v3.0.0. This feature will be removed in v6.0.0. See https://github.com/optuna/optuna/releases/tag/v3.0.0. Use suggest_float(..., step=...) instead.\n",
      "  'iterations': trial.suggest_discrete_uniform('iterations', 100, 500, 10),\n",
      "[I 2023-09-07 15:58:29,239] Trial 1 finished with value: 0.791 and parameters: {'learning_rate': 0.15087750727879862, 'iterations': 280.0, 'min_data_in_leaf': 6, 'depth': 4}. Best is trial 0 with value: 0.805.\n",
      "/tmp/ipykernel_2485/376549932.py:6: FutureWarning: suggest_discrete_uniform has been deprecated in v3.0.0. This feature will be removed in v6.0.0. See https://github.com/optuna/optuna/releases/tag/v3.0.0. Use suggest_float(..., step=...) instead.\n",
      "  'iterations': trial.suggest_discrete_uniform('iterations', 100, 500, 10),\n",
      "[I 2023-09-07 15:58:30,116] Trial 2 finished with value: 0.842 and parameters: {'learning_rate': 0.043374244884538275, 'iterations': 500.0, 'min_data_in_leaf': 26, 'depth': 5}. Best is trial 2 with value: 0.842.\n",
      "/tmp/ipykernel_2485/376549932.py:6: FutureWarning: suggest_discrete_uniform has been deprecated in v3.0.0. This feature will be removed in v6.0.0. See https://github.com/optuna/optuna/releases/tag/v3.0.0. Use suggest_float(..., step=...) instead.\n",
      "  'iterations': trial.suggest_discrete_uniform('iterations', 100, 500, 10),\n",
      "[I 2023-09-07 15:58:30,846] Trial 3 finished with value: 0.845 and parameters: {'learning_rate': 0.15113781268814502, 'iterations': 430.0, 'min_data_in_leaf': 20, 'depth': 4}. Best is trial 3 with value: 0.845.\n",
      "/tmp/ipykernel_2485/376549932.py:6: FutureWarning: suggest_discrete_uniform has been deprecated in v3.0.0. This feature will be removed in v6.0.0. See https://github.com/optuna/optuna/releases/tag/v3.0.0. Use suggest_float(..., step=...) instead.\n",
      "  'iterations': trial.suggest_discrete_uniform('iterations', 100, 500, 10),\n",
      "[I 2023-09-07 15:58:31,447] Trial 4 finished with value: 0.852 and parameters: {'learning_rate': 0.12749875932839927, 'iterations': 400.0, 'min_data_in_leaf': 22, 'depth': 3}. Best is trial 4 with value: 0.852.\n",
      "/tmp/ipykernel_2485/376549932.py:6: FutureWarning: suggest_discrete_uniform has been deprecated in v3.0.0. This feature will be removed in v6.0.0. See https://github.com/optuna/optuna/releases/tag/v3.0.0. Use suggest_float(..., step=...) instead.\n",
      "  'iterations': trial.suggest_discrete_uniform('iterations', 100, 500, 10),\n",
      "[I 2023-09-07 15:58:32,023] Trial 5 finished with value: 0.875 and parameters: {'learning_rate': 0.08623931296540746, 'iterations': 350.0, 'min_data_in_leaf': 17, 'depth': 4}. Best is trial 5 with value: 0.875.\n",
      "/tmp/ipykernel_2485/376549932.py:6: FutureWarning: suggest_discrete_uniform has been deprecated in v3.0.0. This feature will be removed in v6.0.0. See https://github.com/optuna/optuna/releases/tag/v3.0.0. Use suggest_float(..., step=...) instead.\n",
      "  'iterations': trial.suggest_discrete_uniform('iterations', 100, 500, 10),\n",
      "[I 2023-09-07 15:58:32,398] Trial 6 finished with value: 0.84 and parameters: {'learning_rate': 0.19793300626585508, 'iterations': 230.0, 'min_data_in_leaf': 10, 'depth': 3}. Best is trial 5 with value: 0.875.\n",
      "/tmp/ipykernel_2485/376549932.py:6: FutureWarning: suggest_discrete_uniform has been deprecated in v3.0.0. This feature will be removed in v6.0.0. See https://github.com/optuna/optuna/releases/tag/v3.0.0. Use suggest_float(..., step=...) instead.\n",
      "  'iterations': trial.suggest_discrete_uniform('iterations', 100, 500, 10),\n",
      "[I 2023-09-07 15:58:32,504] Trial 7 finished with value: 0.795 and parameters: {'learning_rate': 0.14916252696960988, 'iterations': 120.0, 'min_data_in_leaf': 10, 'depth': 4}. Best is trial 5 with value: 0.875.\n",
      "/tmp/ipykernel_2485/376549932.py:6: FutureWarning: suggest_discrete_uniform has been deprecated in v3.0.0. This feature will be removed in v6.0.0. See https://github.com/optuna/optuna/releases/tag/v3.0.0. Use suggest_float(..., step=...) instead.\n",
      "  'iterations': trial.suggest_discrete_uniform('iterations', 100, 500, 10),\n",
      "[I 2023-09-07 15:58:33,151] Trial 8 finished with value: 0.798 and parameters: {'learning_rate': 0.16990280338692498, 'iterations': 400.0, 'min_data_in_leaf': 21, 'depth': 4}. Best is trial 5 with value: 0.875.\n",
      "/tmp/ipykernel_2485/376549932.py:6: FutureWarning: suggest_discrete_uniform has been deprecated in v3.0.0. This feature will be removed in v6.0.0. See https://github.com/optuna/optuna/releases/tag/v3.0.0. Use suggest_float(..., step=...) instead.\n",
      "  'iterations': trial.suggest_discrete_uniform('iterations', 100, 500, 10),\n",
      "[I 2023-09-07 15:58:33,276] Trial 9 finished with value: 0.814 and parameters: {'learning_rate': 0.18561883675898005, 'iterations': 110.0, 'min_data_in_leaf': 4, 'depth': 5}. Best is trial 5 with value: 0.875.\n",
      "/tmp/ipykernel_2485/376549932.py:6: FutureWarning: suggest_discrete_uniform has been deprecated in v3.0.0. This feature will be removed in v6.0.0. See https://github.com/optuna/optuna/releases/tag/v3.0.0. Use suggest_float(..., step=...) instead.\n",
      "  'iterations': trial.suggest_discrete_uniform('iterations', 100, 500, 10),\n",
      "[I 2023-09-07 15:58:33,727] Trial 10 finished with value: 0.728 and parameters: {'learning_rate': 0.0867622924962013, 'iterations': 310.0, 'min_data_in_leaf': 30, 'depth': 2}. Best is trial 5 with value: 0.875.\n",
      "/tmp/ipykernel_2485/376549932.py:6: FutureWarning: suggest_discrete_uniform has been deprecated in v3.0.0. This feature will be removed in v6.0.0. See https://github.com/optuna/optuna/releases/tag/v3.0.0. Use suggest_float(..., step=...) instead.\n",
      "  'iterations': trial.suggest_discrete_uniform('iterations', 100, 500, 10),\n",
      "[I 2023-09-07 15:58:34,299] Trial 11 finished with value: 0.836 and parameters: {'learning_rate': 0.10280036199414075, 'iterations': 350.0, 'min_data_in_leaf': 21, 'depth': 3}. Best is trial 5 with value: 0.875.\n",
      "/tmp/ipykernel_2485/376549932.py:6: FutureWarning: suggest_discrete_uniform has been deprecated in v3.0.0. This feature will be removed in v6.0.0. See https://github.com/optuna/optuna/releases/tag/v3.0.0. Use suggest_float(..., step=...) instead.\n",
      "  'iterations': trial.suggest_discrete_uniform('iterations', 100, 500, 10),\n",
      "[I 2023-09-07 15:58:35,058] Trial 12 finished with value: 0.797 and parameters: {'learning_rate': 0.10824841018743206, 'iterations': 500.0, 'min_data_in_leaf': 15, 'depth': 3}. Best is trial 5 with value: 0.875.\n",
      "/tmp/ipykernel_2485/376549932.py:6: FutureWarning: suggest_discrete_uniform has been deprecated in v3.0.0. This feature will be removed in v6.0.0. See https://github.com/optuna/optuna/releases/tag/v3.0.0. Use suggest_float(..., step=...) instead.\n",
      "  'iterations': trial.suggest_discrete_uniform('iterations', 100, 500, 10),\n",
      "[I 2023-09-07 15:58:35,403] Trial 13 finished with value: 0.82 and parameters: {'learning_rate': 0.00028918281938455914, 'iterations': 210.0, 'min_data_in_leaf': 25, 'depth': 3}. Best is trial 5 with value: 0.875.\n",
      "/tmp/ipykernel_2485/376549932.py:6: FutureWarning: suggest_discrete_uniform has been deprecated in v3.0.0. This feature will be removed in v6.0.0. See https://github.com/optuna/optuna/releases/tag/v3.0.0. Use suggest_float(..., step=...) instead.\n",
      "  'iterations': trial.suggest_discrete_uniform('iterations', 100, 500, 10),\n",
      "[I 2023-09-07 15:58:35,907] Trial 14 finished with value: 0.865 and parameters: {'learning_rate': 0.119641939054206, 'iterations': 360.0, 'min_data_in_leaf': 15, 'depth': 2}. Best is trial 5 with value: 0.875.\n",
      "/tmp/ipykernel_2485/376549932.py:6: FutureWarning: suggest_discrete_uniform has been deprecated in v3.0.0. This feature will be removed in v6.0.0. See https://github.com/optuna/optuna/releases/tag/v3.0.0. Use suggest_float(..., step=...) instead.\n",
      "  'iterations': trial.suggest_discrete_uniform('iterations', 100, 500, 10),\n"
     ]
    },
    {
     "name": "stderr",
     "output_type": "stream",
     "text": [
      "[I 2023-09-07 15:58:36,369] Trial 15 finished with value: 0.833 and parameters: {'learning_rate': 0.0740264381193268, 'iterations': 330.0, 'min_data_in_leaf': 13, 'depth': 2}. Best is trial 5 with value: 0.875.\n",
      "/tmp/ipykernel_2485/376549932.py:6: FutureWarning: suggest_discrete_uniform has been deprecated in v3.0.0. This feature will be removed in v6.0.0. See https://github.com/optuna/optuna/releases/tag/v3.0.0. Use suggest_float(..., step=...) instead.\n",
      "  'iterations': trial.suggest_discrete_uniform('iterations', 100, 500, 10),\n",
      "[I 2023-09-07 15:58:36,859] Trial 16 finished with value: 0.843 and parameters: {'learning_rate': 0.12316513618161247, 'iterations': 250.0, 'min_data_in_leaf': 1, 'depth': 5}. Best is trial 5 with value: 0.875.\n",
      "/tmp/ipykernel_2485/376549932.py:6: FutureWarning: suggest_discrete_uniform has been deprecated in v3.0.0. This feature will be removed in v6.0.0. See https://github.com/optuna/optuna/releases/tag/v3.0.0. Use suggest_float(..., step=...) instead.\n",
      "  'iterations': trial.suggest_discrete_uniform('iterations', 100, 500, 10),\n",
      "[I 2023-09-07 15:58:37,369] Trial 17 finished with value: 0.814 and parameters: {'learning_rate': 0.07314085187675474, 'iterations': 370.0, 'min_data_in_leaf': 17, 'depth': 2}. Best is trial 5 with value: 0.875.\n",
      "/tmp/ipykernel_2485/376549932.py:6: FutureWarning: suggest_discrete_uniform has been deprecated in v3.0.0. This feature will be removed in v6.0.0. See https://github.com/optuna/optuna/releases/tag/v3.0.0. Use suggest_float(..., step=...) instead.\n",
      "  'iterations': trial.suggest_discrete_uniform('iterations', 100, 500, 10),\n",
      "[I 2023-09-07 15:58:37,526] Trial 18 finished with value: 0.827 and parameters: {'learning_rate': 0.06202071033530124, 'iterations': 180.0, 'min_data_in_leaf': 11, 'depth': 4}. Best is trial 5 with value: 0.875.\n",
      "/tmp/ipykernel_2485/376549932.py:6: FutureWarning: suggest_discrete_uniform has been deprecated in v3.0.0. This feature will be removed in v6.0.0. See https://github.com/optuna/optuna/releases/tag/v3.0.0. Use suggest_float(..., step=...) instead.\n",
      "  'iterations': trial.suggest_discrete_uniform('iterations', 100, 500, 10),\n",
      "[I 2023-09-07 15:58:38,339] Trial 19 finished with value: 0.776 and parameters: {'learning_rate': 0.12239104044503923, 'iterations': 450.0, 'min_data_in_leaf': 18, 'depth': 5}. Best is trial 5 with value: 0.875.\n"
     ]
    }
   ],
   "source": [
    "optimizer = ModelHyperOpt(train_set = (X_train[features_names], y_train), eval_set = (X_eval[features_names], y_eval), config = my_config_catboost)\n",
    "best_params = optimizer.process()"
   ]
  },
  {
   "cell_type": "code",
   "execution_count": 30,
   "id": "5b792efe",
   "metadata": {},
   "outputs": [],
   "source": [
    "best_params.update(my_config_catboost['fixed_hyperparameters'])"
   ]
  },
  {
   "cell_type": "code",
   "execution_count": 31,
   "id": "f7d5aed4",
   "metadata": {},
   "outputs": [],
   "source": [
    "catboost_hyperopt = CatBoostClassifier(**best_params)"
   ]
  },
  {
   "cell_type": "code",
   "execution_count": 32,
   "id": "cc4e6a03",
   "metadata": {},
   "outputs": [
    {
     "data": {
      "text/plain": [
       "<catboost.core.CatBoostClassifier at 0x7f4385962910>"
      ]
     },
     "execution_count": 32,
     "metadata": {},
     "output_type": "execute_result"
    }
   ],
   "source": [
    "catboost_hyperopt.fit(\n",
    "    X = X_train[features_names], \n",
    "    y = y_train,\n",
    "    cat_features = cat_features\n",
    ")"
   ]
  },
  {
   "cell_type": "code",
   "execution_count": 33,
   "id": "3f706379",
   "metadata": {},
   "outputs": [],
   "source": [
    "X_test['catboost_hyperopt'] = catboost_hyperopt.predict_proba(X = Pool(X_test[features_names], cat_features = cat_features))[:, 1]"
   ]
  },
  {
   "cell_type": "code",
   "execution_count": 34,
   "id": "695357e0",
   "metadata": {},
   "outputs": [
    {
     "data": {
      "text/plain": [
       "0.875"
      ]
     },
     "execution_count": 34,
     "metadata": {},
     "output_type": "execute_result"
    }
   ],
   "source": [
    "prc_auc(\n",
    "    y_true = X_test['Survived'].values,\n",
    "    y_score = X_test['catboost_hyperopt'].values\n",
    ")"
   ]
  },
  {
   "cell_type": "markdown",
   "id": "8419d1f2",
   "metadata": {},
   "source": [
    "### hyperopt logreg"
   ]
  },
  {
   "cell_type": "code",
   "execution_count": 35,
   "id": "c545302a",
   "metadata": {},
   "outputs": [
    {
     "name": "stderr",
     "output_type": "stream",
     "text": [
      "/home/finrod/venv_as_cm_salary_t0/lib/python3.8/site-packages/sklearn/base.py:457: UserWarning: X has feature names, but StandardScaler was fitted without feature names\n",
      "  warnings.warn(\n"
     ]
    }
   ],
   "source": [
    "logreg_combo = preprocess_and_train(\n",
    "    X_train = X_train[features_names].copy(),\n",
    "    y_train = y_train.copy(),\n",
    "    features_names = features_names,\n",
    "    cat_features = cat_features,\n",
    "    num_features = num_features,\n",
    "    params = {'penalty' : 'l1', 'max_iter' : 20, 'solver': 'liblinear'}\n",
    ")"
   ]
  },
  {
   "cell_type": "code",
   "execution_count": 36,
   "id": "a9a41ac2",
   "metadata": {},
   "outputs": [
    {
     "name": "stderr",
     "output_type": "stream",
     "text": [
      "/home/finrod/venv_as_cm_salary_t0/lib/python3.8/site-packages/sklearn/base.py:457: UserWarning: X has feature names, but StandardScaler was fitted without feature names\n",
      "  warnings.warn(\n"
     ]
    }
   ],
   "source": [
    "X_test_preprocessed = preprocess(\n",
    "    X = X_test.copy(),\n",
    "    features_names = features_names,\n",
    "    cat_features = cat_features,\n",
    "    num_features = num_features,\n",
    "    return_obj = False,\n",
    "    num_features_means = logreg_combo['num_means'],\n",
    "    encoder = logreg_combo['encoder'],\n",
    "    scaler = logreg_combo['scaler']\n",
    ")"
   ]
  },
  {
   "cell_type": "code",
   "execution_count": 37,
   "id": "fc0ddfe4",
   "metadata": {},
   "outputs": [],
   "source": [
    "X_test['logreg_default'] = logreg_combo['model'].predict_proba(X_test_preprocessed)[:, 1]"
   ]
  },
  {
   "cell_type": "code",
   "execution_count": 38,
   "id": "2d806345",
   "metadata": {},
   "outputs": [
    {
     "data": {
      "text/plain": [
       "0.812"
      ]
     },
     "execution_count": 38,
     "metadata": {},
     "output_type": "execute_result"
    }
   ],
   "source": [
    "prc_auc(\n",
    "    y_true = X_test['Survived'].values,\n",
    "    y_score = X_test['logreg_default'].values\n",
    ")"
   ]
  },
  {
   "cell_type": "code",
   "execution_count": 39,
   "id": "f5459262",
   "metadata": {},
   "outputs": [
    {
     "name": "stderr",
     "output_type": "stream",
     "text": [
      "/home/finrod/venv_as_cm_salary_t0/lib/python3.8/site-packages/sklearn/base.py:457: UserWarning: X has feature names, but StandardScaler was fitted without feature names\n",
      "  warnings.warn(\n",
      "/home/finrod/venv_as_cm_salary_t0/lib/python3.8/site-packages/sklearn/base.py:457: UserWarning: X has feature names, but StandardScaler was fitted without feature names\n",
      "  warnings.warn(\n"
     ]
    }
   ],
   "source": [
    "#TODO: need a model class with preprocessing inside to make my own model object and pass it to config['model']\n",
    "#now preprocessing relies on current split, that's not good\n",
    "\n",
    "X_train_preprocessed = preprocess(\n",
    "    X = X_train.copy(),\n",
    "    features_names = features_names,\n",
    "    cat_features = cat_features,\n",
    "    num_features = num_features,\n",
    "    return_obj = False,\n",
    "    num_features_means = logreg_combo['num_means'],\n",
    "    encoder = logreg_combo['encoder'],\n",
    "    scaler = logreg_combo['scaler']\n",
    ")\n",
    "\n",
    "X_eval_preprocessed = preprocess(\n",
    "    X = X_eval.copy(),\n",
    "    features_names = features_names,\n",
    "    cat_features = cat_features,\n",
    "    num_features = num_features,\n",
    "    return_obj = False,\n",
    "    num_features_means = logreg_combo['num_means'],\n",
    "    encoder = logreg_combo['encoder'],\n",
    "    scaler = logreg_combo['scaler']\n",
    ")"
   ]
  },
  {
   "cell_type": "code",
   "execution_count": 42,
   "id": "db181587",
   "metadata": {},
   "outputs": [],
   "source": [
    "my_config_logreg = {\n",
    "    \"model\": LogisticRegression,\n",
    "    \n",
    "    \"hyperparameters\": lambda trial: {\n",
    "        'C': trial.suggest_float('C', 0.5, 1.5),\n",
    "        'max_iter': trial.suggest_int('max_iter', 7, 100),\n",
    "        'solver': trial.suggest_categorical('solver',  ['lbfgs', \"liblinear\", 'newton-cholesky'])\n",
    "    },\n",
    "\n",
    "    \"fixed_hyperparameters\": {\n",
    "        \"random_state\": 30\n",
    "    },\n",
    "\n",
    "    \"metric\": prc_auc,\n",
    "    \"direction\": \"maximize\",\n",
    "    \"n_trials\": 30,\n",
    "    \"sampler\" : TPESampler\n",
    "}"
   ]
  },
  {
   "cell_type": "code",
   "execution_count": 43,
   "id": "3ec6e5db",
   "metadata": {
    "scrolled": true
   },
   "outputs": [
    {
     "name": "stderr",
     "output_type": "stream",
     "text": [
      "[I 2023-09-07 15:59:12,564] A new study created in memory with name: no-name-c2ecd5e6-0b15-4329-83e9-1eee223af30a\n",
      "[I 2023-09-07 15:59:12,578] Trial 0 finished with value: 0.807 and parameters: {'C': 0.7370971676590244, 'max_iter': 60, 'solver': 'lbfgs'}. Best is trial 0 with value: 0.807.\n",
      "[I 2023-09-07 15:59:12,587] Trial 1 finished with value: 0.785 and parameters: {'C': 0.6495833832998459, 'max_iter': 32, 'solver': 'liblinear'}. Best is trial 0 with value: 0.807.\n",
      "[I 2023-09-07 15:59:12,596] Trial 2 finished with value: 0.807 and parameters: {'C': 0.5869151569660007, 'max_iter': 32, 'solver': 'liblinear'}. Best is trial 0 with value: 0.807.\n",
      "[I 2023-09-07 15:59:12,606] Trial 3 finished with value: 0.754 and parameters: {'C': 0.5260004036309117, 'max_iter': 26, 'solver': 'lbfgs'}. Best is trial 0 with value: 0.807.\n",
      "[I 2023-09-07 15:59:12,615] Trial 4 finished with value: 0.817 and parameters: {'C': 1.1679510769199788, 'max_iter': 65, 'solver': 'liblinear'}. Best is trial 4 with value: 0.817.\n",
      "[I 2023-09-07 15:59:12,624] Trial 5 finished with value: 0.82 and parameters: {'C': 0.838983335188026, 'max_iter': 23, 'solver': 'liblinear'}. Best is trial 5 with value: 0.82.\n",
      "[I 2023-09-07 15:59:12,681] Trial 6 finished with value: 0.774 and parameters: {'C': 0.6101573088248213, 'max_iter': 79, 'solver': 'liblinear'}. Best is trial 5 with value: 0.82.\n",
      "[I 2023-09-07 15:59:12,691] Trial 7 finished with value: 0.763 and parameters: {'C': 1.1304939721463276, 'max_iter': 29, 'solver': 'newton-cholesky'}. Best is trial 5 with value: 0.82.\n",
      "[I 2023-09-07 15:59:12,702] Trial 8 finished with value: 0.704 and parameters: {'C': 1.4440065762436707, 'max_iter': 65, 'solver': 'newton-cholesky'}. Best is trial 5 with value: 0.82.\n",
      "[I 2023-09-07 15:59:12,709] Trial 9 finished with value: 0.803 and parameters: {'C': 0.683806273034163, 'max_iter': 54, 'solver': 'liblinear'}. Best is trial 5 with value: 0.82.\n",
      "/home/finrod/venv_as_cm_salary_t0/lib/python3.8/site-packages/sklearn/linear_model/_logistic.py:460: ConvergenceWarning: lbfgs failed to converge (status=1):\n",
      "STOP: TOTAL NO. of ITERATIONS REACHED LIMIT.\n",
      "\n",
      "Increase the number of iterations (max_iter) or scale the data as shown in:\n",
      "    https://scikit-learn.org/stable/modules/preprocessing.html\n",
      "Please also refer to the documentation for alternative solver options:\n",
      "    https://scikit-learn.org/stable/modules/linear_model.html#logistic-regression\n",
      "  n_iter_i = _check_optimize_result(\n",
      "[I 2023-09-07 15:59:12,733] Trial 10 finished with value: 0.719 and parameters: {'C': 0.8611000988117814, 'max_iter': 8, 'solver': 'lbfgs'}. Best is trial 5 with value: 0.82.\n",
      "[I 2023-09-07 15:59:12,751] Trial 11 finished with value: 0.722 and parameters: {'C': 1.043914894132982, 'max_iter': 95, 'solver': 'liblinear'}. Best is trial 5 with value: 0.82.\n",
      "[I 2023-09-07 15:59:12,770] Trial 12 finished with value: 0.734 and parameters: {'C': 1.189989933257245, 'max_iter': 7, 'solver': 'liblinear'}. Best is trial 5 with value: 0.82.\n",
      "[I 2023-09-07 15:59:12,788] Trial 13 finished with value: 0.797 and parameters: {'C': 0.8850619285383252, 'max_iter': 73, 'solver': 'liblinear'}. Best is trial 5 with value: 0.82.\n",
      "[I 2023-09-07 15:59:12,805] Trial 14 finished with value: 0.771 and parameters: {'C': 1.2554078544725087, 'max_iter': 44, 'solver': 'liblinear'}. Best is trial 5 with value: 0.82.\n",
      "[I 2023-09-07 15:59:12,824] Trial 15 finished with value: 0.839 and parameters: {'C': 0.9406371394965491, 'max_iter': 46, 'solver': 'newton-cholesky'}. Best is trial 15 with value: 0.839.\n",
      "[I 2023-09-07 15:59:12,839] Trial 16 finished with value: 0.828 and parameters: {'C': 0.8963846284404079, 'max_iter': 44, 'solver': 'newton-cholesky'}. Best is trial 15 with value: 0.839.\n",
      "[I 2023-09-07 15:59:12,854] Trial 17 finished with value: 0.75 and parameters: {'C': 0.9756085926722013, 'max_iter': 44, 'solver': 'newton-cholesky'}. Best is trial 15 with value: 0.839.\n",
      "[I 2023-09-07 15:59:12,872] Trial 18 finished with value: 0.803 and parameters: {'C': 0.7604581621511729, 'max_iter': 44, 'solver': 'newton-cholesky'}. Best is trial 15 with value: 0.839.\n",
      "[I 2023-09-07 15:59:12,891] Trial 19 finished with value: 0.805 and parameters: {'C': 0.9655264456337108, 'max_iter': 89, 'solver': 'newton-cholesky'}. Best is trial 15 with value: 0.839.\n",
      "[I 2023-09-07 15:59:12,909] Trial 20 finished with value: 0.828 and parameters: {'C': 0.7852989548352297, 'max_iter': 50, 'solver': 'newton-cholesky'}. Best is trial 15 with value: 0.839.\n",
      "[I 2023-09-07 15:59:12,935] Trial 21 finished with value: 0.796 and parameters: {'C': 0.7897443131684407, 'max_iter': 49, 'solver': 'newton-cholesky'}. Best is trial 15 with value: 0.839.\n",
      "[I 2023-09-07 15:59:12,950] Trial 22 finished with value: 0.818 and parameters: {'C': 0.8952159899401347, 'max_iter': 38, 'solver': 'newton-cholesky'}. Best is trial 15 with value: 0.839.\n",
      "[I 2023-09-07 15:59:12,968] Trial 23 finished with value: 0.788 and parameters: {'C': 0.7307725337608469, 'max_iter': 55, 'solver': 'newton-cholesky'}. Best is trial 15 with value: 0.839.\n",
      "[I 2023-09-07 15:59:12,987] Trial 24 finished with value: 0.777 and parameters: {'C': 0.9398603047926104, 'max_iter': 16, 'solver': 'newton-cholesky'}. Best is trial 15 with value: 0.839.\n",
      "[I 2023-09-07 15:59:13,004] Trial 25 finished with value: 0.795 and parameters: {'C': 0.8160628982840199, 'max_iter': 48, 'solver': 'newton-cholesky'}. Best is trial 15 with value: 0.839.\n",
      "[I 2023-09-07 15:59:13,020] Trial 26 finished with value: 0.758 and parameters: {'C': 1.037207020451566, 'max_iter': 38, 'solver': 'newton-cholesky'}. Best is trial 15 with value: 0.839.\n",
      "[I 2023-09-07 15:59:13,038] Trial 27 finished with value: 0.808 and parameters: {'C': 0.9055449751800544, 'max_iter': 72, 'solver': 'newton-cholesky'}. Best is trial 15 with value: 0.839.\n",
      "[I 2023-09-07 15:59:13,055] Trial 28 finished with value: 0.711 and parameters: {'C': 0.8146689480120975, 'max_iter': 60, 'solver': 'newton-cholesky'}. Best is trial 15 with value: 0.839.\n",
      "[I 2023-09-07 15:59:13,073] Trial 29 finished with value: 0.77 and parameters: {'C': 0.7174731230594509, 'max_iter': 38, 'solver': 'lbfgs'}. Best is trial 15 with value: 0.839.\n"
     ]
    }
   ],
   "source": [
    "optimizer = ModelHyperOpt(train_set = (X_train_preprocessed, y_train), eval_set = (X_eval_preprocessed, y_eval), config = my_config_logreg)\n",
    "best_params_logreg = optimizer.process()"
   ]
  },
  {
   "cell_type": "code",
   "execution_count": 44,
   "id": "1712c176",
   "metadata": {},
   "outputs": [],
   "source": [
    "best_params_logreg.update(my_config_logreg['fixed_hyperparameters'])"
   ]
  },
  {
   "cell_type": "code",
   "execution_count": 45,
   "id": "b550c788",
   "metadata": {},
   "outputs": [
    {
     "data": {
      "text/plain": [
       "{'C': 0.9406371394965491,\n",
       " 'max_iter': 46,\n",
       " 'solver': 'newton-cholesky',\n",
       " 'random_state': 30}"
      ]
     },
     "execution_count": 45,
     "metadata": {},
     "output_type": "execute_result"
    }
   ],
   "source": [
    "best_params_logreg"
   ]
  },
  {
   "cell_type": "code",
   "execution_count": 46,
   "id": "a550820b",
   "metadata": {},
   "outputs": [
    {
     "name": "stderr",
     "output_type": "stream",
     "text": [
      "/home/finrod/venv_as_cm_salary_t0/lib/python3.8/site-packages/sklearn/base.py:457: UserWarning: X has feature names, but StandardScaler was fitted without feature names\n",
      "  warnings.warn(\n"
     ]
    }
   ],
   "source": [
    "logreg_combo_new = preprocess_and_train(\n",
    "    X_train = X_train[features_names].copy(),\n",
    "    y_train = y_train.copy(),\n",
    "    features_names = features_names,\n",
    "    cat_features = cat_features,\n",
    "    num_features = num_features,\n",
    "    params = best_params_logreg\n",
    ")"
   ]
  },
  {
   "cell_type": "code",
   "execution_count": 47,
   "id": "4d21c667",
   "metadata": {},
   "outputs": [],
   "source": [
    "X_test['logreg_hyperopt'] = logreg_combo_new['model'].predict_proba(X_test_preprocessed)[:, 1]"
   ]
  },
  {
   "cell_type": "code",
   "execution_count": 48,
   "id": "64e64088",
   "metadata": {},
   "outputs": [
    {
     "data": {
      "text/plain": [
       "0.824"
      ]
     },
     "execution_count": 48,
     "metadata": {},
     "output_type": "execute_result"
    }
   ],
   "source": [
    "prc_auc(\n",
    "    y_true = X_test['Survived'].values,\n",
    "    y_score = X_test['logreg_hyperopt'].values\n",
    ")"
   ]
  },
  {
   "cell_type": "code",
   "execution_count": null,
   "id": "ceeae74b",
   "metadata": {},
   "outputs": [],
   "source": []
  }
 ],
 "metadata": {
  "kernelspec": {
   "display_name": "Python 3 (ipykernel)",
   "language": "python",
   "name": "python3"
  },
  "language_info": {
   "codemirror_mode": {
    "name": "ipython",
    "version": 3
   },
   "file_extension": ".py",
   "mimetype": "text/x-python",
   "name": "python",
   "nbconvert_exporter": "python",
   "pygments_lexer": "ipython3",
   "version": "3.8.10"
  }
 },
 "nbformat": 4,
 "nbformat_minor": 5
}
